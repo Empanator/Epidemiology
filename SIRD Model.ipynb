{
 "cells": [
  {
   "cell_type": "markdown",
   "metadata": {},
   "source": [
    "***Color manual***\n",
    "\n",
    "<div class=\"alert alert-block alert-success\">\n",
    "<b>Green - Libraries</b>\n",
    "</div>\n",
    "\n",
    "<div class=\"alert alert-block alert-info\">\n",
    "<b>Blue - Information</b>\n",
    "</div>\n",
    "\n",
    "<div class=\"alert alert-block alert-danger\">\n",
    "<b>Red - Problems</b>\n",
    "</div>\n",
    "\n",
    "***"
   ]
  },
  {
   "cell_type": "markdown",
   "metadata": {},
   "source": [
    "<div class=\"alert alert-block alert-success\">\n",
    "<b>Libraries</b>\n",
    "</div>"
   ]
  },
  {
   "cell_type": "code",
   "execution_count": 1,
   "metadata": {},
   "outputs": [],
   "source": [
    "import numpy as np\n",
    "import chart_studio\n",
    "import plotly.graph_objs as go\n",
    "import chart_studio.plotly as py\n",
    "\n",
    "from scipy import integrate\n",
    "\n",
    "chart_studio.tools.set_config_file(world_readable = True, sharing = 'public')"
   ]
  },
  {
   "cell_type": "markdown",
   "metadata": {},
   "source": [
    "<div class=\"alert alert-block alert-info\">\n",
    "<b>Function</b>\n",
    "</div>"
   ]
  },
  {
   "cell_type": "code",
   "execution_count": 2,
   "metadata": {},
   "outputs": [],
   "source": [
    "def SIRD(y, t, beta, gamma, delta):\n",
    "\n",
    "    S, I, R, D = y\n",
    "    dS = -beta*S*I\n",
    "    dI = beta*S*I - gamma*I - delta*I\n",
    "    dR = gamma*I\n",
    "    dD = delta*I\n",
    "    \n",
    "    return ([dS, dI, dR, dD])"
   ]
  },
  {
   "cell_type": "markdown",
   "metadata": {},
   "source": [
    "<div class=\"alert alert-block alert-info\">\n",
    "<b>Parameters and olutions for the model</b>\n",
    "</div>"
   ]
  },
  {
   "cell_type": "code",
   "execution_count": 3,
   "metadata": {},
   "outputs": [],
   "source": [
    "# Initial percentage of susceptible individuals at the beginning of the model run \n",
    "S0 = 0.8\n",
    "\n",
    "# Initial percentage of infected individuals at the beginning of the model run\n",
    "I0 = 0.09\n",
    "\n",
    "# Initial percentage of recovered individuals at the beginning of the model run\n",
    "R0 = 0.005\n",
    "\n",
    "# Initial percentage of deceased individuals at the beginning of the model run\n",
    "D0 = 0.005\n",
    "\n",
    "# Parameter of how often a susceptible-infected contact results in a new infection\n",
    "beta = 0.4\n",
    "\n",
    "# Parameter of how often infected recovers and moves into the resistant phase\n",
    "gamma = 0.1\n",
    "\n",
    "# Mortality rate\n",
    "delta = 0.15\n",
    "\n",
    "Ro = beta/(gamma + delta)\n",
    "\n",
    "xvals = np.linspace(0, 60)\n",
    "\n",
    "sol = integrate.odeint(SIRD, [S0, I0, R0, D0], xvals, args = (beta, gamma, delta))"
   ]
  },
  {
   "cell_type": "markdown",
   "metadata": {},
   "source": [
    "<div class=\"alert alert-block alert-info\">\n",
    "<b>Plot the model</b>\n",
    "</div>"
   ]
  },
  {
   "cell_type": "code",
   "execution_count": 4,
   "metadata": {},
   "outputs": [
    {
     "data": {
      "text/html": [
       "\n",
       "        <iframe\n",
       "            width=\"100%\"\n",
       "            height=\"525px\"\n",
       "            src=\"https://plotly.com/~Empanator/491.embed\"\n",
       "            frameborder=\"0\"\n",
       "            allowfullscreen\n",
       "        ></iframe>\n",
       "        "
      ],
      "text/plain": [
       "<IPython.lib.display.IFrame at 0x2348c5bb808>"
      ]
     },
     "execution_count": 4,
     "metadata": {},
     "output_type": "execute_result"
    }
   ],
   "source": [
    "fig = go.Figure()\n",
    "\n",
    "fig.add_trace(go.Scatter(x = xvals, y = sol[:, 0], \n",
    "    name = 'Susceptible', \n",
    "    mode = 'lines'))\n",
    "\n",
    "fig.add_trace(go.Scatter(x = xvals, y = sol[:, 1], \n",
    "    name = 'Infectious', \n",
    "    mode = 'lines'))\n",
    "\n",
    "fig.add_trace(go.Scatter(x = xvals, y = sol[:, 2], \n",
    "    name = 'Recovered', \n",
    "    mode = 'lines'))\n",
    "\n",
    "fig.add_trace(go.Scatter(x = xvals, y = sol[:, 3], \n",
    "    name = 'Deceased', \n",
    "    mode = 'lines'))\n",
    "\n",
    "fig.update_layout(title_text = 'SIRD Model', \n",
    "    title_x = 0.45,\n",
    "    title_y = 0.95,\n",
    "    xaxis_title = 'Days',\n",
    "    yaxis_title = 'Percentage of cases',\n",
    "    paper_bgcolor = 'rgba(1,1,1,1)',\n",
    "    plot_bgcolor = 'rgba(255,255,255,255)',\n",
    "    hovermode = 'x unified',\n",
    "    hoverlabel = dict(\n",
    "    font_size = 15, \n",
    "    font_family = 'Helvetica'),\n",
    "    font = dict(\n",
    "    family = 'Helvetica, Helvetica',\n",
    "    size = 15,\n",
    "    color = 'white'))\n",
    "\n",
    "fig.update_xaxes(hoverformat = '.3f', \n",
    "                 dtick = 2, \n",
    "                 ticks = 'outside', \n",
    "                 tickwidth = 2, \n",
    "                 tickcolor = 'black', \n",
    "                 ticklen = 10,\n",
    "                 showgrid = False,\n",
    "                 zeroline = False)\n",
    "\n",
    "fig.update_yaxes(hoverformat = '.3f',\n",
    "                 ticks = 'outside', \n",
    "                 tickwidth = 2, \n",
    "                 tickcolor = 'black', \n",
    "                 ticklen = 10,\n",
    "                 showgrid = False,\n",
    "                 zeroline = False,\n",
    "                 range=[0, 1])\n",
    "\n",
    "py.iplot(fig, filename = 'SIRD Model', auto_open = False)"
   ]
  }
 ],
 "metadata": {
  "kernelspec": {
   "display_name": "Python 3",
   "language": "python",
   "name": "python3"
  },
  "language_info": {
   "codemirror_mode": {
    "name": "ipython",
    "version": 3
   },
   "file_extension": ".py",
   "mimetype": "text/x-python",
   "name": "python",
   "nbconvert_exporter": "python",
   "pygments_lexer": "ipython3",
   "version": "3.7.7"
  }
 },
 "nbformat": 4,
 "nbformat_minor": 4
}
